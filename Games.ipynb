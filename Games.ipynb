{
 "cells": [
  {
   "cell_type": "code",
   "execution_count": null,
   "id": "4466aa07-69f1-4ecc-94c6-d745912f25d6",
   "metadata": {},
   "outputs": [],
   "source": []
  },
  {
   "cell_type": "code",
   "execution_count": 9,
   "id": "ab5656f1-79d8-4748-b187-428ba18102ac",
   "metadata": {},
   "outputs": [
    {
     "name": "stdin",
     "output_type": "stream",
     "text": [
      "What is your name?  Vikas \n",
      "Enter your choice 1 for easy 2 for medium & 3 for hard : 2\n"
     ]
    },
    {
     "name": "stdout",
     "output_type": "stream",
     "text": [
      "Good Luck !  Vikas \n",
      "Guess the characters\n",
      "_\n",
      "_\n",
      "_\n",
      "_\n",
      "_\n",
      "_\n",
      "\n"
     ]
    },
    {
     "name": "stdin",
     "output_type": "stream",
     "text": [
      "guess a character: a\n"
     ]
    },
    {
     "name": "stdout",
     "output_type": "stream",
     "text": [
      "Wrong\n",
      "You have 11 more guesses\n",
      "_\n",
      "_\n",
      "_\n",
      "_\n",
      "_\n",
      "_\n",
      "\n"
     ]
    },
    {
     "name": "stdin",
     "output_type": "stream",
     "text": [
      "guess a character: o\n"
     ]
    },
    {
     "name": "stdout",
     "output_type": "stream",
     "text": [
      "Wrong\n",
      "You have 10 more guesses\n",
      "_\n",
      "_\n",
      "_\n",
      "_\n",
      "_\n",
      "_\n",
      "\n"
     ]
    },
    {
     "name": "stdin",
     "output_type": "stream",
     "text": [
      "guess a character: e\n"
     ]
    },
    {
     "name": "stdout",
     "output_type": "stream",
     "text": [
      "Wrong\n",
      "You have 9 more guesses\n",
      "_\n",
      "_\n",
      "_\n",
      "_\n",
      "_\n",
      "_\n",
      "\n"
     ]
    },
    {
     "name": "stdin",
     "output_type": "stream",
     "text": [
      "guess a character: t\n"
     ]
    },
    {
     "name": "stdout",
     "output_type": "stream",
     "text": [
      "Wrong\n",
      "You have 8 more guesses\n",
      "_\n",
      "_\n",
      "_\n",
      "_\n",
      "_\n",
      "_\n",
      "\n"
     ]
    },
    {
     "name": "stdin",
     "output_type": "stream",
     "text": [
      "guess a character: u\n"
     ]
    },
    {
     "name": "stdout",
     "output_type": "stream",
     "text": [
      "_\n",
      "_\n",
      "_\n",
      "_\n",
      "u _\n",
      "\n"
     ]
    },
    {
     "name": "stdin",
     "output_type": "stream",
     "text": [
      "guess a character: i\n"
     ]
    },
    {
     "name": "stdout",
     "output_type": "stream",
     "text": [
      "_\n",
      "i _\n",
      "_\n",
      "u _\n",
      "\n"
     ]
    },
    {
     "name": "stdin",
     "output_type": "stream",
     "text": [
      "guess a character: h\n"
     ]
    },
    {
     "name": "stdout",
     "output_type": "stream",
     "text": [
      "h i _\n",
      "_\n",
      "u _\n",
      "\n"
     ]
    },
    {
     "name": "stdin",
     "output_type": "stream",
     "text": [
      "guess a character: c\n"
     ]
    },
    {
     "name": "stdout",
     "output_type": "stream",
     "text": [
      "h i c c u _\n",
      "\n"
     ]
    },
    {
     "name": "stdin",
     "output_type": "stream",
     "text": [
      "guess a character: p\n"
     ]
    },
    {
     "name": "stdout",
     "output_type": "stream",
     "text": [
      "h i c c u p You Win\n",
      "The word is:  hiccup\n"
     ]
    }
   ],
   "source": [
    "import random\n",
    "def games(words):\n",
    "    word = random.choice(words)\n",
    "    print(\"Guess the characters\")\n",
    "    guesses = ''\n",
    "    turns = 12\n",
    "    while turns > 0:\n",
    "        failed = 0\n",
    "        for char in word:\n",
    "            if char in guesses:\n",
    "                print(char, end=\" \")\n",
    "            else:\n",
    "                print(\"_\")\n",
    "                failed += 1\n",
    "        if failed == 0:\n",
    "            print(\"You Win\")\n",
    "            print(\"The word is: \", word)\n",
    "            break\n",
    "        print()\n",
    "        guess = input(\"guess a character:\")\n",
    "        guesses += guess\n",
    "        if guess not in word:\n",
    "            turns -= 1\n",
    "            print(\"Wrong\")\n",
    "            print(\"You have\", + turns, 'more guesses')\n",
    "            if turns == 0:\n",
    "                print(\"You Loose\")\n",
    " \n",
    "\n",
    "\n",
    "\n",
    "\n",
    "name = input(\"What is your name? \")\n",
    "n=int(input(\"Enter your choice 1 for easy 2 for medium & 3 for hard :\"))\n",
    " \n",
    "print(\"Good Luck ! \", name)\n",
    " \n",
    "words = [\"airplane\",\"boat\",\"baby\",\"ears\",\"scissors\",\"cough\",\"cold\",\"phone\",\"laugh\",\"blink\",\n",
    "         \"hairbrush\",\"sneeze\",\"spin\",\"hammer\",\"book\",\"phone\",\"toothbrush\",\"jump\",\"clap\",\"slap\"]\n",
    "words1=[\"archer\",\"ghost\",\"balance\",\"shoelaces\",\"sick\",\"balloon\",\"banana\",\"monster\",\"hiccup\",\n",
    "        \"stomp\",\"hurt\",\"hungry\",\"slip\",\"karate\",\"ladder\",\"scare\",\"fishing\",\"dizzy\",\"read\",\"hot\"] \n",
    "words2=[\"birthday\",\"president\",\"apartment\",\"cradle\",\"coffee\",\"trampoline\",\"waterfall\",\"window\",\"proud\",\"stuckup\",\"flashlight\",\"marry\",\n",
    "        \"overwhelm\",\"judge\",\"shadow\",\"halo\",\"measure\",\"clown\",\"chomp\",\"slither\"]\n",
    "if n==1:\n",
    "    games(words)\n",
    "elif n==2:\n",
    "    games(words1)\n",
    "elif n==3:\n",
    "    games(words2)\n",
    "else:\n",
    "    print(\"Input Invalid \")"
   ]
  },
  {
   "cell_type": "code",
   "execution_count": null,
   "id": "ac9b8598-d03d-41a0-9e5a-336686b56327",
   "metadata": {},
   "outputs": [],
   "source": []
  }
 ],
 "metadata": {
  "kernelspec": {
   "display_name": "Python 3 (ipykernel)",
   "language": "python",
   "name": "python3"
  },
  "language_info": {
   "codemirror_mode": {
    "name": "ipython",
    "version": 3
   },
   "file_extension": ".py",
   "mimetype": "text/x-python",
   "name": "python",
   "nbconvert_exporter": "python",
   "pygments_lexer": "ipython3",
   "version": "3.10.8"
  }
 },
 "nbformat": 4,
 "nbformat_minor": 5
}
